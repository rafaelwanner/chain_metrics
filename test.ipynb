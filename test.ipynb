{
 "cells": [
  {
   "cell_type": "code",
   "execution_count": 206,
   "metadata": {},
   "outputs": [],
   "source": [
    "import mmap\n",
    "import numpy as np\n",
    "import binascii\n",
    "import hashlib\n",
    "import base58\n",
    "import struct\n",
    "import datetime\n",
    "import hashlib"
   ]
  },
  {
   "cell_type": "code",
   "execution_count": 209,
   "metadata": {},
   "outputs": [],
   "source": [
    "def publicKeyDecode(pub):\n",
    "    if pub.lower().startswith('76a914'):\n",
    "        pub = pub[6:-4]\n",
    "        result = (b'\\x00') + binascii.unhexlify(pub)\n",
    "        h5 = hashlib.sha256(result)\n",
    "        h6 = hashlib.sha256(h5.digest())\n",
    "        result += h6.digest()[:4]\n",
    "        return base58.b58encode(result)\n",
    "    elif pub.lower().startswith('a9'):\n",
    "        return \"\"\n",
    "    elif startsWithOpNCode(pub):\n",
    "        pub = pub[2:-2]\n",
    "        h3 = hashlib.sha256(binascii.unhexlify(pub))\n",
    "        h4 = hashlib.new('ripemd160', h3.digest())\n",
    "        result = (b'\\x00') + h4.digest()\n",
    "        h5 = hashlib.sha256(result)\n",
    "        h6 = hashlib.sha256(h5.digest())\n",
    "        result += h6.digest()[:4]\n",
    "        return base58.b58encode(result)\n",
    "    return \"\""
   ]
  },
  {
   "cell_type": "code",
   "execution_count": 193,
   "metadata": {},
   "outputs": [],
   "source": [
    "def reverse(h):\n",
    "    byte_array = bytearray(h)\n",
    "    h_new = bytearray(b'0')\n",
    "    for i in range(0,len(byte_array),2):\n",
    "        h_new[i:i+1] = byte_array[len(byte_array)-1-i-1], byte_array[len(byte_array)-1-i]\n",
    "        \n",
    "    return bytes(h_new)"
   ]
  },
  {
   "cell_type": "code",
   "execution_count": 194,
   "metadata": {},
   "outputs": [],
   "source": [
    "def hexToInt(value):\n",
    "    return int(binascii.hexlify(value), 16)\n",
    "\n",
    "def hexToStr(value):\n",
    "    return binascii.hexlify(value)\n",
    "\n",
    "def readVarInt(blockFile):\n",
    "    varInt = ord(blockFile.read(1))\n",
    "    returnInt = 0\n",
    "    if varInt < 0xfd:\n",
    "        return varInt\n",
    "    if varInt == 0xfd:\n",
    "          returnInt = readShortLittleEndian(blockFile)\n",
    "    if varInt == 0xfe:\n",
    "        returnInt = readIntLittleEndian(blockFile)\n",
    "    if varInt == 0xff:\n",
    "        returnInt = readLongLittleEndian(blockFile)\n",
    "    return int(binascii.hexlify(returnInt), 16)"
   ]
  },
  {
   "cell_type": "code",
   "execution_count": 195,
   "metadata": {},
   "outputs": [],
   "source": [
    "def stringLittleEndianToBigEndian(string):\n",
    "    string = binascii.hexlify(string)\n",
    "    n = len(string) / 2\n",
    "    fmt = '%dh' % n\n",
    "    return struct.pack(fmt, *reversed(struct.unpack(fmt, string)))\n",
    "\n",
    "def readIntLittleEndian(blockFile):\n",
    "    return struct.pack(\">I\", struct.unpack(\"<I\", blockFile.read(4))[0])\n",
    "\n",
    "def readShortLittleEndian(blockFile):\n",
    "    return struct.pack(\">H\", struct.unpack(\"<H\", blockFile.read(2))[0])\n",
    "\n",
    "def readLongLittleEndian(blockFile):\n",
    "    return struct.pack(\">Q\", struct.unpack(\"<Q\", blockFile.read(8))[0])\n"
   ]
  },
  {
   "cell_type": "code",
   "execution_count": 196,
   "metadata": {},
   "outputs": [],
   "source": [
    "def readInput(blockFile):\n",
    "    previousHash = binascii.hexlify(blockFile.read(32)[::-1])\n",
    "    outId = binascii.hexlify(readIntLittleEndian(blockFile))\n",
    "    scriptLength = readVarInt(blockFile)\n",
    "    scriptSignatureRaw = hexToStr(blockFile.read(scriptLength))\n",
    "    scriptSignature = scriptSignatureRaw\n",
    "    seqNo = binascii.hexlify(readIntLittleEndian(blockFile))\n",
    "\n",
    "    print(\"\\n\" + \"Input\")\n",
    "    print(\"-\" * 20)\n",
    "    print(\"> Previous Hash: \", previousHash)\n",
    "    print(\"> Out ID: \", outId)\n",
    "    print(\"> Script length: \" + str(scriptLength))\n",
    "    print(\"> Script Signature (PubKey) Raw: \", scriptSignatureRaw)\n",
    "    print(\"> Script Signature (PubKey): \", scriptSignature)\n",
    "    print(\"> Seq No: \", seqNo)"
   ]
  },
  {
   "cell_type": "code",
   "execution_count": 204,
   "metadata": {},
   "outputs": [],
   "source": [
    "def readOutput(blockFile):\n",
    "    value = hexToInt(readLongLittleEndian(blockFile)) / 100000000.0\n",
    "    scriptLength = readVarInt(blockFile)\n",
    "    scriptSignatureRaw = hexToStr(blockFile.read(scriptLength))\n",
    "    scriptSignature = scriptSignatureRaw\n",
    "    address = ''\n",
    "    try:\n",
    "        address = publicKeyDecode(scriptSignature)\n",
    "    except:\n",
    "        address = ''\n",
    "  \n",
    "    print(\"\\n\" + \"Output\")\n",
    "    print(\"-\" * 20)\n",
    "    print(\"> Value: \" + str(value))\n",
    "    print(\"> Script length: \" + str(scriptLength))\n",
    "    print(\"> Script Signature (PubKey) Raw: \", scriptSignatureRaw)\n",
    "    print(\"> Script Signature (PubKey): \", scriptSignature)\n",
    "    print(\"> Address: \" + address)"
   ]
  },
  {
   "cell_type": "code",
   "execution_count": 201,
   "metadata": {},
   "outputs": [],
   "source": [
    "def readTransaction(blockFile):\n",
    "    extendedFormat = False\n",
    "    beginByte = blockFile.tell()\n",
    "    inputIds = []\n",
    "    outputIds = []\n",
    "    version = hexToInt(readIntLittleEndian(blockFile)) \n",
    "    cutStart1 = blockFile.tell()\n",
    "    cutEnd1 = 0\n",
    "    inputCount = readVarInt(blockFile)\n",
    "    \n",
    "    print(\"\\n\\n\" + \"Transaction\")\n",
    "    print(\"-\" * 100)\n",
    "    print(\"Version: \" + str(version))\n",
    "    \n",
    "    print(\"\\nInput Count: \" + str(inputCount))\n",
    "    for inputIndex in range(0, inputCount):\n",
    "        inputIds.append(readInput(blockFile))\n",
    "    outputCount = readVarInt(blockFile)\n",
    "    print(\"\\nOutput Count: \" + str(outputCount))\n",
    "    for outputIndex in range(0, outputCount):\n",
    "        outputIds.append(readOutput(blockFile))\n",
    "        \n",
    "    lockTime = hexToInt(readIntLittleEndian(blockFile))\n",
    "    if lockTime < 500000000:\n",
    "        print(\"\\nLock Time is Block Height: \" + str(lockTime))\n",
    "    else:\n",
    "        print(\"\\nLock Time is Timestamp: \" + datetime.datetime.fromtimestamp(lockTime).strftime('%d.%m.%Y %H:%M'))\n"
   ]
  },
  {
   "cell_type": "code",
   "execution_count": 202,
   "metadata": {},
   "outputs": [],
   "source": [
    "def process_block(blockFile):\n",
    "    magicNumber = binascii.hexlify(blockFile.read(4))\n",
    "    blockSize = hexToInt(readIntLittleEndian(blockFile))\n",
    "    version = hexToInt(readIntLittleEndian(blockFile))\n",
    "    previousHash = reverse(binascii.hexlify(blockFile.read(32)))\n",
    "    merkleHash = reverse(binascii.hexlify(blockFile.read(32)))\n",
    "    creationTimeTimestamp = hexToInt(readIntLittleEndian(blockFile))\n",
    "    creationTime = datetime.datetime.fromtimestamp(creationTimeTimestamp).strftime('%d.%m.%Y %H:%M')\n",
    "    bits = hexToInt(readIntLittleEndian(blockFile))\n",
    "    nonce = hexToInt(readIntLittleEndian(blockFile))\n",
    "    countOfTransactions = readVarInt(blockFile)\n",
    "    \n",
    "    print(\"Magic Number: \", magicNumber)\n",
    "    print(\"Blocksize: \" + str(blockSize))\n",
    "    print(\"Version: \" + str(version))\n",
    "    print(\"Previous Hash: \", previousHash)\n",
    "    print(\"Merkle Hash: \", merkleHash)\n",
    "    print(\"Time: \" , creationTime)\n",
    "    print(\"Bits: \" + str(bits))\n",
    "    print(\"Nonce: \" + str(nonce))\n",
    "    print(\"Count of Transactions: \" + str(countOfTransactions))\n",
    "    \n",
    "    for transactionIndex in range(0, countOfTransactions):\n",
    "        readTransaction(blockFile)"
   ]
  },
  {
   "cell_type": "code",
   "execution_count": 210,
   "metadata": {},
   "outputs": [
    {
     "name": "stdout",
     "output_type": "stream",
     "text": [
      "Magic Number:  b'f9beb4d9'\n",
      "Blocksize: 215\n",
      "Version: 1\n",
      "Previous Hash:  b'000000000019d6689c085ae165831e934ff763ae46a2a6c172b3f1b60a8ce26f'\n",
      "Merkle Hash:  b'0e3e2357e806b6cdb1f70b54c3a3a17b6714ee1f0e68bebb44a74b1efd512098'\n",
      "Time:  09.01.2009 03:54\n",
      "Bits: 486604799\n",
      "Nonce: 2573394689\n",
      "Count of Transactions: 1\n",
      "\n",
      "\n",
      "Transaction\n",
      "----------------------------------------------------------------------------------------------------\n",
      "Version: 1\n",
      "\n",
      "Input Count: 1\n",
      "\n",
      "Input\n",
      "--------------------\n",
      "> Previous Hash:  b'0000000000000000000000000000000000000000000000000000000000000000'\n",
      "> Out ID:  b'ffffffff'\n",
      "> Script length: 7\n",
      "> Script Signature (PubKey) Raw:  b'04ffff001d0104'\n",
      "> Script Signature (PubKey):  b'04ffff001d0104'\n",
      "> Seq No:  b'ffffffff'\n",
      "\n",
      "Output Count: 1\n",
      "\n",
      "Output\n",
      "--------------------\n",
      "> Value: 50.0\n",
      "> Script length: 67\n",
      "> Script Signature (PubKey) Raw:  b'410496b538e853519c726a2c91e61ec11600ae1390813a627c66fb8be7947be63c52da7589379515d4e0a604f8141781e62294721166bf621e73a82cbf2342c858eeac'\n",
      "> Script Signature (PubKey):  b'410496b538e853519c726a2c91e61ec11600ae1390813a627c66fb8be7947be63c52da7589379515d4e0a604f8141781e62294721166bf621e73a82cbf2342c858eeac'\n",
      "> Address: \n",
      "\n",
      "Lock Time is Block Height: 0\n"
     ]
    }
   ],
   "source": [
    "with open('blk00000.dat', 'rb') as file:\n",
    "    file.read(293)\n",
    "    process_block(file)"
   ]
  },
  {
   "cell_type": "code",
   "execution_count": 191,
   "metadata": {},
   "outputs": [
    {
     "name": "stdout",
     "output_type": "stream",
     "text": [
      "293\n"
     ]
    }
   ],
   "source": [
    "with open('blk00000.dat', 'rb') as file:\n",
    "    file.read(293)\n",
    "    print(file.tell())"
   ]
  },
  {
   "cell_type": "code",
   "execution_count": null,
   "metadata": {},
   "outputs": [],
   "source": [
    "|"
   ]
  }
 ],
 "metadata": {
  "kernelspec": {
   "display_name": "Python 3",
   "language": "python",
   "name": "python3"
  },
  "language_info": {
   "codemirror_mode": {
    "name": "ipython",
    "version": 3
   },
   "file_extension": ".py",
   "mimetype": "text/x-python",
   "name": "python",
   "nbconvert_exporter": "python",
   "pygments_lexer": "ipython3",
   "version": "3.8.5"
  }
 },
 "nbformat": 4,
 "nbformat_minor": 4
}
